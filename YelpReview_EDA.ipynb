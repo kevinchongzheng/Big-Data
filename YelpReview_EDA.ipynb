{
 "cells": [
  {
   "cell_type": "code",
   "execution_count": 0,
   "metadata": {
    "application/vnd.databricks.v1+cell": {
     "cellMetadata": {
      "byteLimit": 2048000,
      "rowLimit": 10000
     },
     "inputWidgets": {},
     "nuid": "10d36016-8d0b-4800-91cb-392c389ef2b5",
     "showTitle": false,
     "title": ""
    }
   },
   "outputs": [],
   "source": [
    "access_key = ''\n",
    "secret_key = ''\n",
    "encoded_secret_key = secret_key.replace(\"/\", \"%2F\")\n",
    "aws_bucket_name = \"imdb-project-kc\"\n",
    "mount_name = \"s3dataread\"\n",
    "#dbutils.fs.mount(f\"s3a://{access_key}:{encoded_secret_key}@{aws_bucket_name}\", f\"/mnt/{mount_name}\")"
   ]
  },
  {
   "cell_type": "code",
   "execution_count": 0,
   "metadata": {
    "application/vnd.databricks.v1+cell": {
     "cellMetadata": {
      "byteLimit": 2048000,
      "rowLimit": 10000
     },
     "inputWidgets": {},
     "nuid": "dbe3a821-543e-4fb2-b929-287360b0ea07",
     "showTitle": false,
     "title": ""
    }
   },
   "outputs": [
    {
     "output_type": "display_data",
     "data": {
      "text/html": [
       "<style scoped>\n",
       "  .table-result-container {\n",
       "    max-height: 300px;\n",
       "    overflow: auto;\n",
       "  }\n",
       "  table, th, td {\n",
       "    border: 1px solid black;\n",
       "    border-collapse: collapse;\n",
       "  }\n",
       "  th, td {\n",
       "    padding: 5px;\n",
       "  }\n",
       "  th {\n",
       "    text-align: left;\n",
       "  }\n",
       "</style><div class='table-result-container'><table class='table-result'><thead style='background-color: white'><tr><th>path</th><th>name</th><th>size</th><th>modificationTime</th></tr></thead><tbody><tr><td>dbfs:/mnt/s3dataread/curated/</td><td>curated/</td><td>0</td><td>0</td></tr><tr><td>dbfs:/mnt/s3dataread/landing/</td><td>landing/</td><td>0</td><td>0</td></tr><tr><td>dbfs:/mnt/s3dataread/models/</td><td>models/</td><td>0</td><td>0</td></tr><tr><td>dbfs:/mnt/s3dataread/raw/</td><td>raw/</td><td>0</td><td>0</td></tr><tr><td>dbfs:/mnt/s3dataread/trusted/</td><td>trusted/</td><td>0</td><td>0</td></tr></tbody></table></div>"
      ]
     },
     "metadata": {
      "application/vnd.databricks.v1+output": {
       "addedWidgets": {},
       "aggData": [],
       "aggError": "",
       "aggOverflow": false,
       "aggSchema": [],
       "aggSeriesLimitReached": false,
       "aggType": "",
       "arguments": {},
       "columnCustomDisplayInfos": {},
       "data": [
        [
         "dbfs:/mnt/s3dataread/curated/",
         "curated/",
         0,
         0
        ],
        [
         "dbfs:/mnt/s3dataread/landing/",
         "landing/",
         0,
         0
        ],
        [
         "dbfs:/mnt/s3dataread/models/",
         "models/",
         0,
         0
        ],
        [
         "dbfs:/mnt/s3dataread/raw/",
         "raw/",
         0,
         0
        ],
        [
         "dbfs:/mnt/s3dataread/trusted/",
         "trusted/",
         0,
         0
        ]
       ],
       "datasetInfos": [],
       "dbfsResultPath": null,
       "isJsonSchema": true,
       "metadata": {},
       "overflow": false,
       "plotOptions": {
        "customPlotOptions": {},
        "displayType": "table",
        "pivotAggregation": null,
        "pivotColumns": null,
        "xColumns": null,
        "yColumns": null
       },
       "removedWidgets": [],
       "schema": [
        {
         "metadata": "{}",
         "name": "path",
         "type": "\"string\""
        },
        {
         "metadata": "{}",
         "name": "name",
         "type": "\"string\""
        },
        {
         "metadata": "{}",
         "name": "size",
         "type": "\"long\""
        },
        {
         "metadata": "{}",
         "name": "modificationTime",
         "type": "\"long\""
        }
       ],
       "type": "table"
      }
     },
     "output_type": "display_data"
    }
   ],
   "source": [
    "display(dbutils.fs.ls(f\"/mnt/{mount_name}\"))"
   ]
  },
  {
   "cell_type": "code",
   "execution_count": 0,
   "metadata": {
    "application/vnd.databricks.v1+cell": {
     "cellMetadata": {
      "byteLimit": 2048000,
      "rowLimit": 10000
     },
     "inputWidgets": {},
     "nuid": "d8df057e-0103-4968-93bf-142ae450ad8b",
     "showTitle": false,
     "title": ""
    }
   },
   "outputs": [
    {
     "output_type": "stream",
     "name": "stdout",
     "output_type": "stream",
     "text": [
      "+--------------------+--------------------+--------------------+--------------------+-------------+--------------------+-------+----------+------------+--------------------+-----------+------------+-----+-----+\n|             address|          attributes|         business_id|          categories|         city|               hours|is_open|  latitude|   longitude|                name|postal_code|review_count|stars|state|\n+--------------------+--------------------+--------------------+--------------------+-------------+--------------------+-------+----------+------------+--------------------+-----------+------------+-----+-----+\n|1616 Chapala St, ...|{null, null, null...|Pns2l4eNsfO8kk83d...|Doctors, Traditio...|Santa Barbara|                null|      0|34.4266787|-119.7111968|Abby Rappoport, L...|      93101|           7|  5.0|   CA|\n|87 Grasso Plaza S...|{null, null, null...|mpf3x-BjTdTEA3yCZ...|Shipping Centers,...|       Affton|{8:0-18:30, 0:0-0...|      1| 38.551126|  -90.335695|       The UPS Store|      63123|          15|  3.0|   MO|\n|5255 E Broadway Blvd|{null, null, null...|tUFrWirKiKi_TAnsV...|Department Stores...|       Tucson|{8:0-23:0, 8:0-22...|      0| 32.223236| -110.880452|              Target|      85711|          22|  3.5|   AZ|\n|         935 Race St|{null, null, u'no...|MTSW4McQd7CbVtyjq...|Restaurants, Food...| Philadelphia|{7:0-21:0, 7:0-20...|      1|39.9555052| -75.1555641|  St Honore Pastries|      19107|          80|  4.0|   PA|\n|       101 Walnut St|{null, null, null...|mWMc6_wTdE0EUBKIG...|Brewpubs, Breweri...|   Green Lane|{12:0-22:0, null,...|      1|40.3381827| -75.4716585|Perkiomen Valley ...|      18054|          13|  4.5|   PA|\n+--------------------+--------------------+--------------------+--------------------+-------------+--------------------+-------+----------+------------+--------------------+-----------+------------+-----+-----+\nonly showing top 5 rows\n\n"
     ]
    }
   ],
   "source": [
    "# Read the business data from s3\n",
    "file_location_business = \"dbfs:/mnt/s3dataread/landing/yelp_academic_dataset_business.json\"\n",
    "df_business = spark.read.json(file_location_business)\n",
    "df_business.show(5)"
   ]
  },
  {
   "cell_type": "code",
   "execution_count": 0,
   "metadata": {
    "application/vnd.databricks.v1+cell": {
     "cellMetadata": {
      "byteLimit": 2048000,
      "rowLimit": 10000
     },
     "inputWidgets": {},
     "nuid": "5c543a68-b963-4c92-8dff-feab062e3052",
     "showTitle": false,
     "title": ""
    }
   },
   "outputs": [],
   "source": [
    "# Convert to dataframe\n",
    "df_business = df_business.toPandas()"
   ]
  },
  {
   "cell_type": "code",
   "execution_count": 0,
   "metadata": {
    "application/vnd.databricks.v1+cell": {
     "cellMetadata": {
      "byteLimit": 2048000,
      "rowLimit": 10000
     },
     "inputWidgets": {},
     "nuid": "7f6ff761-856e-405d-8e36-cacfd8e0d8ce",
     "showTitle": false,
     "title": ""
    }
   },
   "outputs": [
    {
     "output_type": "stream",
     "name": "stdout",
     "output_type": "stream",
     "text": [
      "(150346, 14)\n"
     ]
    }
   ],
   "source": [
    "# Get number of columns and rows\n",
    "print(df_business.shape)"
   ]
  },
  {
   "cell_type": "code",
   "execution_count": 0,
   "metadata": {
    "application/vnd.databricks.v1+cell": {
     "cellMetadata": {
      "byteLimit": 2048000,
      "rowLimit": 10000
     },
     "inputWidgets": {},
     "nuid": "826c7f2e-cda7-4b8e-9c0a-6210aeb8c5b3",
     "showTitle": false,
     "title": ""
    }
   },
   "outputs": [
    {
     "output_type": "stream",
     "name": "stdout",
     "output_type": "stream",
     "text": [
      "Index(['address', 'attributes', 'business_id', 'categories', 'city', 'hours',\n       'is_open', 'latitude', 'longitude', 'name', 'postal_code',\n       'review_count', 'stars', 'state'],\n      dtype='object')\n"
     ]
    }
   ],
   "source": [
    "# Get all columns names\n",
    "print(df_business.columns)"
   ]
  },
  {
   "cell_type": "code",
   "execution_count": 0,
   "metadata": {
    "application/vnd.databricks.v1+cell": {
     "cellMetadata": {
      "byteLimit": 2048000,
      "rowLimit": 10000
     },
     "inputWidgets": {},
     "nuid": "dfcbe283-d0b4-4396-bed2-e4fcfe2be164",
     "showTitle": false,
     "title": ""
    }
   },
   "outputs": [
    {
     "output_type": "stream",
     "name": "stdout",
     "output_type": "stream",
     "text": [
      "address             0\nattributes      13744\nbusiness_id         0\ncategories        103\ncity                0\nhours           23223\nis_open             0\nlatitude            0\nlongitude           0\nname                0\npostal_code         0\nreview_count        0\nstars               0\nstate               0\ndtype: int64\n"
     ]
    }
   ],
   "source": [
    "# Find missing value\n",
    "print(df_business.isna().sum())"
   ]
  },
  {
   "cell_type": "code",
   "execution_count": 0,
   "metadata": {
    "application/vnd.databricks.v1+cell": {
     "cellMetadata": {
      "byteLimit": 2048000,
      "rowLimit": 10000
     },
     "inputWidgets": {},
     "nuid": "22375c23-b1c4-44ee-aa9c-3939e1778ba3",
     "showTitle": false,
     "title": ""
    }
   },
   "outputs": [
    {
     "output_type": "stream",
     "name": "stdout",
     "output_type": "stream",
     "text": [
      "            is_open       latitude      longitude   review_count  \\\ncount  150346.00000  150346.000000  150346.000000  150346.000000   \nmean        0.79615      36.671150     -89.357339      44.866561   \nstd         0.40286       5.872759      14.918502     121.120136   \nmin         0.00000      27.555127    -120.095137       5.000000   \n25%         1.00000      32.187293     -90.357810       8.000000   \n50%         1.00000      38.777413     -86.121179      15.000000   \n75%         1.00000      39.954036     -75.421542      37.000000   \nmax         1.00000      53.679197     -73.200457    7568.000000   \n\n               stars  \ncount  150346.000000  \nmean        3.596724  \nstd         0.974421  \nmin         1.000000  \n25%         3.000000  \n50%         3.500000  \n75%         4.500000  \nmax         5.000000  \n"
     ]
    }
   ],
   "source": [
    "# Get statistics of all numerical columns\n",
    "print(df_business.describe())"
   ]
  },
  {
   "cell_type": "code",
   "execution_count": 0,
   "metadata": {
    "application/vnd.databricks.v1+cell": {
     "cellMetadata": {
      "byteLimit": 2048000,
      "rowLimit": 10000
     },
     "inputWidgets": {},
     "nuid": "579f278e-641a-4636-8e19-5ad5887269f6",
     "showTitle": false,
     "title": ""
    }
   },
   "outputs": [],
   "source": [
    "import matplotlib.pyplot as plt"
   ]
  },
  {
   "cell_type": "code",
   "execution_count": 0,
   "metadata": {
    "application/vnd.databricks.v1+cell": {
     "cellMetadata": {
      "byteLimit": 2048000,
      "rowLimit": 10000
     },
     "inputWidgets": {},
     "nuid": "67a47dea-6c11-4112-92af-ab5ad0263bd9",
     "showTitle": false,
     "title": ""
    }
   },
   "outputs": [
    {
     "output_type": "stream",
     "name": "stdout",
     "output_type": "stream",
     "text": [
      "Out[22]: (array([ 1986.,  4932.,  9527., 14316.,     0., 18453., 26519., 31125.,\n        27181., 16307.]),\n array([1. , 1.4, 1.8, 2.2, 2.6, 3. , 3.4, 3.8, 4.2, 4.6, 5. ]),\n <BarContainer object of 10 artists>)"
     ]
    },
    {
     "output_type": "display_data",
     "data": {
      "image/png": "[encoded data removed]"
     },
     "metadata": {
      "application/vnd.databricks.v1+output": {
       "addedWidgets": {},
       "arguments": {},
       "data": "data:image/png;base64,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\n",
       "datasetInfos": [],
       "metadata": {},
       "removedWidgets": [],
       "type": "image"
      }
     },
     "output_type": "display_data"
    }
   ],
   "source": [
    "# Plot a histogram of the stars column\n",
    "plt.hist(df_business['stars'])"
   ]
  },
  {
   "cell_type": "code",
   "execution_count": 0,
   "metadata": {
    "application/vnd.databricks.v1+cell": {
     "cellMetadata": {
      "byteLimit": 2048000,
      "rowLimit": 10000
     },
     "inputWidgets": {},
     "nuid": "cb4f585d-221c-4152-9522-f7ec7fc6aebc",
     "showTitle": false,
     "title": ""
    }
   },
   "outputs": [
    {
     "output_type": "stream",
     "name": "stdout",
     "output_type": "stream",
     "text": [
      "+-------------+---------------+---------------+----------------+--------------+---------------+---------------+---------------+-----------------+----------------+------------------+-----------------+-----+--------------------+----+--------------------+-----+------+------------+------+--------------------+-------------------+\n|average_stars|compliment_cool|compliment_cute|compliment_funny|compliment_hot|compliment_list|compliment_more|compliment_note|compliment_photos|compliment_plain|compliment_profile|compliment_writer| cool|               elite|fans|             friends|funny|  name|review_count|useful|             user_id|      yelping_since|\n+-------------+---------------+---------------+----------------+--------------+---------------+---------------+---------------+-----------------+----------------+------------------+-----------------+-----+--------------------+----+--------------------+-----+------+------------+------+--------------------+-------------------+\n|         3.91|            467|             56|             467|           250|             18|             65|            232|              180|             844|                55|              239| 5994|                2007| 267|NSCy54eWehBJyZdG2...| 1259|Walker|         585|  7217|qVc8ODYU5SZjKXVBg...|2007-01-25 16:47:26|\n|         3.74|           3131|            157|            3131|          1145|            251|            264|           1847|             1946|            7054|               184|             1521|27281|2009,2010,2011,20...|3138|ueRPE0CX75ePGMqOF...|13066|Daniel|        4333| 43091|j14WgRoU_-2ZE1aw1...|2009-01-25 04:35:42|\n|         3.32|            119|             17|             119|            89|              3|             13|             66|               18|              96|                10|               35| 1003|2009,2010,2011,20...|  52|LuO3Bn4f3rlhyHIaN...| 1010| Steph|         665|  2086|2WnXYQFK0hXEoTxPt...|2008-07-25 10:41:00|\n|         4.27|             26|              6|              26|            24|              2|              4|             12|                9|              16|                 1|               10|  299|      2009,2010,2011|  28|enx1vVPnfdNUdPho6...|  330|  Gwen|         224|   512|SZDeASXq7o05mMNLs...|2005-11-29 04:38:33|\n|         3.54|              0|              0|               0|             1|              0|              1|              1|                0|               1|                 0|                0|    7|                    |   1|PBK4q9KEEBHhFvSXC...|   15| Karen|          79|    29|hA5lMy-EnncsH4JoR...|2007-01-05 19:40:59|\n+-------------+---------------+---------------+----------------+--------------+---------------+---------------+---------------+-----------------+----------------+------------------+-----------------+-----+--------------------+----+--------------------+-----+------+------------+------+--------------------+-------------------+\nonly showing top 5 rows\n\n"
     ]
    }
   ],
   "source": [
    "# Read the user data from s3\n",
    "file_location_user = \"dbfs:/mnt/s3dataread/landing/yelp_academic_dataset_user.json\"\n",
    "df_user = spark.read.json(file_location_user)\n",
    "df_user.show(5)"
   ]
  },
  {
   "cell_type": "code",
   "execution_count": 0,
   "metadata": {
    "application/vnd.databricks.v1+cell": {
     "cellMetadata": {
      "byteLimit": 2048000,
      "rowLimit": 10000
     },
     "inputWidgets": {},
     "nuid": "18211682-226d-40b4-a80c-5094e12c57b8",
     "showTitle": false,
     "title": ""
    }
   },
   "outputs": [],
   "source": [
    "# Convert to dataframe\n",
    "df_user = df_user.toPandas()"
   ]
  },
  {
   "cell_type": "code",
   "execution_count": 0,
   "metadata": {
    "application/vnd.databricks.v1+cell": {
     "cellMetadata": {
      "byteLimit": 2048000,
      "rowLimit": 10000
     },
     "inputWidgets": {},
     "nuid": "4f419b61-f20a-4f63-b984-0ac34a9c1439",
     "showTitle": false,
     "title": ""
    }
   },
   "outputs": [
    {
     "output_type": "stream",
     "name": "stdout",
     "output_type": "stream",
     "text": [
      "(1987897, 22)\n"
     ]
    }
   ],
   "source": [
    "# Get number of columns and rows\n",
    "print(df_user.shape)"
   ]
  },
  {
   "cell_type": "code",
   "execution_count": 0,
   "metadata": {
    "application/vnd.databricks.v1+cell": {
     "cellMetadata": {
      "byteLimit": 2048000,
      "rowLimit": 10000
     },
     "inputWidgets": {},
     "nuid": "571c4da5-db5f-4944-804b-9be10aca08a8",
     "showTitle": false,
     "title": ""
    }
   },
   "outputs": [
    {
     "output_type": "stream",
     "name": "stdout",
     "output_type": "stream",
     "text": [
      "Index(['average_stars', 'compliment_cool', 'compliment_cute',\n       'compliment_funny', 'compliment_hot', 'compliment_list',\n       'compliment_more', 'compliment_note', 'compliment_photos',\n       'compliment_plain', 'compliment_profile', 'compliment_writer', 'cool',\n       'elite', 'fans', 'friends', 'funny', 'name', 'review_count', 'useful',\n       'user_id', 'yelping_since'],\n      dtype='object')\n"
     ]
    }
   ],
   "source": [
    "# Get all columns names\n",
    "print(df_user.columns)"
   ]
  },
  {
   "cell_type": "code",
   "execution_count": 0,
   "metadata": {
    "application/vnd.databricks.v1+cell": {
     "cellMetadata": {
      "byteLimit": 2048000,
      "rowLimit": 10000
     },
     "inputWidgets": {},
     "nuid": "cae74299-c6d5-4680-9d7a-5e424671acd0",
     "showTitle": false,
     "title": ""
    }
   },
   "outputs": [
    {
     "output_type": "stream",
     "name": "stdout",
     "output_type": "stream",
     "text": [
      "average_stars         0\ncompliment_cool       0\ncompliment_cute       0\ncompliment_funny      0\ncompliment_hot        0\ncompliment_list       0\ncompliment_more       0\ncompliment_note       0\ncompliment_photos     0\ncompliment_plain      0\ncompliment_profile    0\ncompliment_writer     0\ncool                  0\nelite                 0\nfans                  0\nfriends               0\nfunny                 0\nname                  0\nreview_count          0\nuseful                0\nuser_id               0\nyelping_since         0\ndtype: int64\n"
     ]
    }
   ],
   "source": [
    "# Find missing value\n",
    "print(df_user.isna().sum())"
   ]
  },
  {
   "cell_type": "code",
   "execution_count": 0,
   "metadata": {
    "application/vnd.databricks.v1+cell": {
     "cellMetadata": {
      "byteLimit": 2048000,
      "rowLimit": 10000
     },
     "inputWidgets": {},
     "nuid": "a4fe7ed7-9a13-43d8-b29a-fb1b546a5ca1",
     "showTitle": false,
     "title": ""
    }
   },
   "outputs": [
    {
     "output_type": "stream",
     "name": "stdout",
     "output_type": "stream",
     "text": [
      "       average_stars  compliment_cool  compliment_cute  compliment_funny  \\\ncount   1.987897e+06     1.987897e+06     1.987897e+06      1.987897e+06   \nmean    3.630494e+00     2.829308e+00     1.336493e-01      2.829308e+00   \nstd     1.183337e+00     9.666385e+01     1.135682e+01      9.666385e+01   \nmin     1.000000e+00     0.000000e+00     0.000000e+00      0.000000e+00   \n25%     3.000000e+00     0.000000e+00     0.000000e+00      0.000000e+00   \n50%     3.880000e+00     0.000000e+00     0.000000e+00      0.000000e+00   \n75%     4.560000e+00     0.000000e+00     0.000000e+00      0.000000e+00   \nmax     5.000000e+00     4.996700e+04     1.365400e+04      4.996700e+04   \n\n       compliment_hot  compliment_list  compliment_more  compliment_note  \\\ncount    1.987897e+06     1.987897e+06     1.987897e+06     1.987897e+06   \nmean     1.807072e+00     6.390723e-02     2.922631e-01     1.443135e+00   \nstd      7.360184e+01     1.004363e+01     1.282467e+01     6.016790e+01   \nmin      0.000000e+00     0.000000e+00     0.000000e+00     0.000000e+00   \n25%      0.000000e+00     0.000000e+00     0.000000e+00     0.000000e+00   \n50%      0.000000e+00     0.000000e+00     0.000000e+00     0.000000e+00   \n75%      0.000000e+00     0.000000e+00     0.000000e+00     0.000000e+00   \nmax      2.578400e+04     1.266900e+04     1.350100e+04     5.903100e+04   \n\n       compliment_photos  compliment_plain  compliment_profile  \\\ncount       1.987897e+06      1.987897e+06        1.987897e+06   \nmean        1.226859e+00      3.011841e+00        1.793176e-01   \nstd         9.515751e+01      1.193898e+02        1.515525e+01   \nmin         0.000000e+00      0.000000e+00        0.000000e+00   \n25%         0.000000e+00      0.000000e+00        0.000000e+00   \n50%         0.000000e+00      0.000000e+00        0.000000e+00   \n75%         0.000000e+00      0.000000e+00        0.000000e+00   \nmax         8.263000e+04      1.010970e+05        1.418000e+04   \n\n       compliment_writer          cool          fans         funny  \\\ncount       1.987897e+06  1.987897e+06  1.987897e+06  1.987897e+06   \nmean        1.056448e+00  2.379291e+01  1.465740e+00  1.697054e+01   \nstd         3.217973e+01  5.653513e+02  1.813075e+01  4.078034e+02   \nmin         0.000000e+00  0.000000e+00  0.000000e+00  0.000000e+00   \n25%         0.000000e+00  0.000000e+00  0.000000e+00  0.000000e+00   \n50%         0.000000e+00  0.000000e+00  0.000000e+00  0.000000e+00   \n75%         0.000000e+00  3.000000e+00  0.000000e+00  2.000000e+00   \nmax         1.593400e+04  1.998780e+05  1.249700e+04  1.858230e+05   \n\n       review_count        useful  \ncount  1.987897e+06  1.987897e+06  \nmean   2.339441e+01  4.229634e+01  \nstd    8.256699e+01  6.414806e+02  \nmin    0.000000e+00  0.000000e+00  \n25%    2.000000e+00  0.000000e+00  \n50%    5.000000e+00  3.000000e+00  \n75%    1.700000e+01  1.300000e+01  \nmax    1.747300e+04  2.062960e+05  \n"
     ]
    }
   ],
   "source": [
    "# Get statistics of all numerical columns\n",
    "print(df_user.describe())"
   ]
  },
  {
   "cell_type": "code",
   "execution_count": 0,
   "metadata": {
    "application/vnd.databricks.v1+cell": {
     "cellMetadata": {
      "byteLimit": 2048000,
      "rowLimit": 10000
     },
     "inputWidgets": {},
     "nuid": "9e8da32a-45b2-48f7-98aa-4bd8009f2ef8",
     "showTitle": false,
     "title": ""
    }
   },
   "outputs": [
    {
     "output_type": "stream",
     "name": "stdout",
     "output_type": "stream",
     "text": [
      "Out[31]: (array([176496.,  28781.,  69728.,  79929.,  82169., 249227., 262268.,\n        301161., 257359., 480779.]),\n array([1. , 1.4, 1.8, 2.2, 2.6, 3. , 3.4, 3.8, 4.2, 4.6, 5. ]),\n <BarContainer object of 10 artists>)"
     ]
    },
    {
     "output_type": "display_data",
     "data": {
      "image/png": "[encoded data removed]"
     },
     "metadata": {
      "application/vnd.databricks.v1+output": {
       "addedWidgets": {},
       "arguments": {},
       "data": "data:image/png;base64,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\n",
       "datasetInfos": [],
       "metadata": {},
       "removedWidgets": [],
       "type": "image"
      }
     },
     "output_type": "display_data"
    }
   ],
   "source": [
    "# Plot a histogram of the average_stars column\n",
    "print(plt.hist(df_user['average_stars']))"
   ]
  },
  {
   "cell_type": "code",
   "execution_count": 0,
   "metadata": {
    "application/vnd.databricks.v1+cell": {
     "cellMetadata": {
      "byteLimit": 2048000,
      "rowLimit": 10000
     },
     "inputWidgets": {},
     "nuid": "c0305a09-c6fe-401d-8df9-3dee17a07f0a",
     "showTitle": false,
     "title": ""
    }
   },
   "outputs": [
    {
     "output_type": "stream",
     "name": "stdout",
     "output_type": "stream",
     "text": [
      "+--------------------+----+-------------------+-----+--------------------+-----+--------------------+------+--------------------+\n|         business_id|cool|               date|funny|           review_id|stars|                text|useful|             user_id|\n+--------------------+----+-------------------+-----+--------------------+-----+--------------------+------+--------------------+\n|XQfwVwDr-v0ZS3_Cb...|   0|2018-07-07 22:09:11|    0|KU_O5udG6zpxOg-Vc...|  3.0|If you decide to ...|     0|mh_-eMZ6K5RLWhZyI...|\n|7ATYjTIgM3jUlt4UM...|   1|2012-01-03 15:28:18|    0|BiTunyQ73aT9WBnpR...|  5.0|I've taken a lot ...|     1|OyoGAe7OKpv6SyGZT...|\n|YjUWPpI6HXG530lwP...|   0|2014-02-05 20:30:30|    0|saUsX_uimxRlCVr67...|  3.0|Family diner. Had...|     0|8g_iMtfSiwikVnbP2...|\n|kxX2SOes4o-D3ZQBk...|   1|2015-01-04 00:01:03|    0|AqPFMleE6RsU23_au...|  5.0|Wow!  Yummy, diff...|     1|_7bHUi9Uuf5__HHc_...|\n|e4Vwtrqf-wpJfwesg...|   1|2017-01-14 20:54:15|    0|Sx8TMOWLNuJBWer-0...|  4.0|Cute interior and...|     1|bcjbaE6dDog4jkNY9...|\n+--------------------+----+-------------------+-----+--------------------+-----+--------------------+------+--------------------+\nonly showing top 5 rows\n\n"
     ]
    }
   ],
   "source": [
    "# Read the review data from s3\n",
    "file_location_review = \"dbfs:/mnt/s3dataread/landing/yelp_academic_dataset_review.json\"\n",
    "df_review = spark.read.json(file_location_review)\n",
    "df_review.show(5)"
   ]
  },
  {
   "cell_type": "code",
   "execution_count": 0,
   "metadata": {
    "application/vnd.databricks.v1+cell": {
     "cellMetadata": {
      "byteLimit": 2048000,
      "rowLimit": 10000
     },
     "inputWidgets": {},
     "nuid": "ca811b2f-d82d-4346-86b6-626b86b5aaa5",
     "showTitle": false,
     "title": ""
    }
   },
   "outputs": [
    {
     "output_type": "stream",
     "name": "stdout",
     "output_type": "stream",
     "text": [
      "root\n |-- business_id: string (nullable = true)\n |-- cool: long (nullable = true)\n |-- date: string (nullable = true)\n |-- funny: long (nullable = true)\n |-- review_id: string (nullable = true)\n |-- stars: double (nullable = true)\n |-- text: string (nullable = true)\n |-- useful: long (nullable = true)\n |-- user_id: string (nullable = true)\n\n"
     ]
    }
   ],
   "source": [
    "# Apply schema to the data\n",
    "df_review.printSchema()"
   ]
  },
  {
   "cell_type": "code",
   "execution_count": 0,
   "metadata": {
    "application/vnd.databricks.v1+cell": {
     "cellMetadata": {
      "byteLimit": 2048000,
      "rowLimit": 10000
     },
     "inputWidgets": {},
     "nuid": "97a2030e-3b2f-4b1d-8415-841642f7485a",
     "showTitle": false,
     "title": ""
    }
   },
   "outputs": [
    {
     "output_type": "stream",
     "name": "stdout",
     "output_type": "stream",
     "text": [
      "Out[10]: 6990280"
     ]
    }
   ],
   "source": [
    "# Count number of rows\n",
    "df_review.count()"
   ]
  },
  {
   "cell_type": "code",
   "execution_count": 0,
   "metadata": {
    "application/vnd.databricks.v1+cell": {
     "cellMetadata": {
      "byteLimit": 2048000,
      "rowLimit": 10000
     },
     "inputWidgets": {},
     "nuid": "319209bf-8651-4eae-9f3c-8a4d01ceb3ec",
     "showTitle": false,
     "title": ""
    }
   },
   "outputs": [
    {
     "output_type": "stream",
     "name": "stdout",
     "output_type": "stream",
     "text": [
      "Out[11]: ['business_id',\n 'cool',\n 'date',\n 'funny',\n 'review_id',\n 'stars',\n 'text',\n 'useful',\n 'user_id']"
     ]
    }
   ],
   "source": [
    "# Get all columns names\n",
    "df_review.columns"
   ]
  },
  {
   "cell_type": "code",
   "execution_count": 0,
   "metadata": {
    "application/vnd.databricks.v1+cell": {
     "cellMetadata": {
      "byteLimit": 2048000,
      "rowLimit": 10000
     },
     "inputWidgets": {},
     "nuid": "62fe4687-5b8a-4293-9a09-2801a00b46d1",
     "showTitle": false,
     "title": ""
    }
   },
   "outputs": [
    {
     "output_type": "stream",
     "name": "stdout",
     "output_type": "stream",
     "text": [
      "+-------+------------------+-------------------+------------------+------------------+\n|summary|              cool|              funny|             stars|            useful|\n+-------+------------------+-------------------+------------------+------------------+\n|  count|           6990280|            6990280|           6990280|           6990280|\n|   mean|0.4986175088837643|0.32655959417934616|  3.74858374771826|1.1846089140921394|\n| stddev| 2.172459820211183| 1.6887290985540466|1.4787045052556833|3.2537669669333593|\n|    min|                -1|                 -1|               1.0|                -1|\n|    max|               404|                792|               5.0|              1182|\n+-------+------------------+-------------------+------------------+------------------+\n\n"
     ]
    }
   ],
   "source": [
    "# Get statistics of the numeric columns\n",
    "df_review.select([\"cool\",\"funny\",\"stars\",\"useful\"]).describe().show()"
   ]
  },
  {
   "cell_type": "code",
   "execution_count": 0,
   "metadata": {
    "application/vnd.databricks.v1+cell": {
     "cellMetadata": {
      "byteLimit": 2048000,
      "rowLimit": 10000
     },
     "inputWidgets": {},
     "nuid": "f0015984-877d-43e1-9d5e-912c2c287835",
     "showTitle": false,
     "title": ""
    }
   },
   "outputs": [
    {
     "output_type": "stream",
     "name": "stdout",
     "output_type": "stream",
     "text": [
      "+-----------+----+----+-----+---------+-----+----+------+-------+\n|business_id|cool|date|funny|review_id|stars|text|useful|user_id|\n+-----------+----+----+-----+---------+-----+----+------+-------+\n|          0|   0|   0|    0|        0|    0|   0|     0|      0|\n+-----------+----+----+-----+---------+-----+----+------+-------+\n\n"
     ]
    }
   ],
   "source": [
    "# Find missing value\n",
    "from pyspark.sql.functions import isnan, when, count, col\n",
    "\n",
    "df_review.select([count(when(isnan(c) | col(c).isNull(), c)).alias(c) for c in df_review.columns]).show()"
   ]
  },
  {
   "cell_type": "code",
   "execution_count": 0,
   "metadata": {
    "application/vnd.databricks.v1+cell": {
     "cellMetadata": {
      "byteLimit": 2048000,
      "rowLimit": 10000
     },
     "inputWidgets": {},
     "nuid": "40c7c33a-5932-4842-b5ee-1449dca4ad69",
     "showTitle": false,
     "title": ""
    }
   },
   "outputs": [
    {
     "output_type": "stream",
     "name": "stdout",
     "output_type": "stream",
     "text": [
      "+--------------------+-------------------+--------------------+-----+--------------------+--------------------+\n|         business_id|               date|           review_id|stars|                text|             user_id|\n+--------------------+-------------------+--------------------+-----+--------------------+--------------------+\n|XQfwVwDr-v0ZS3_Cb...|2018-07-07 22:09:11|KU_O5udG6zpxOg-Vc...|  3.0|If you decide to ...|mh_-eMZ6K5RLWhZyI...|\n|7ATYjTIgM3jUlt4UM...|2012-01-03 15:28:18|BiTunyQ73aT9WBnpR...|  5.0|I've taken a lot ...|OyoGAe7OKpv6SyGZT...|\n|YjUWPpI6HXG530lwP...|2014-02-05 20:30:30|saUsX_uimxRlCVr67...|  3.0|Family diner. Had...|8g_iMtfSiwikVnbP2...|\n|kxX2SOes4o-D3ZQBk...|2015-01-04 00:01:03|AqPFMleE6RsU23_au...|  5.0|Wow!  Yummy, diff...|_7bHUi9Uuf5__HHc_...|\n|e4Vwtrqf-wpJfwesg...|2017-01-14 20:54:15|Sx8TMOWLNuJBWer-0...|  4.0|Cute interior and...|bcjbaE6dDog4jkNY9...|\n+--------------------+-------------------+--------------------+-----+--------------------+--------------------+\nonly showing top 5 rows\n\n"
     ]
    }
   ],
   "source": [
    "# List of columns to remove from dataset\n",
    "cols_to_drop = ['cool', 'funny', 'useful']\n",
    "\n",
    "# Drop columns in list\n",
    "df_review = df_review.drop(*cols_to_drop)\n",
    "\n",
    "df_review.show(5)"
   ]
  },
  {
   "cell_type": "code",
   "execution_count": 0,
   "metadata": {
    "application/vnd.databricks.v1+cell": {
     "cellMetadata": {
      "byteLimit": 2048000,
      "rowLimit": 10000
     },
     "inputWidgets": {},
     "nuid": "eb26daa3-c4b0-4a9d-8f9a-e644687d41c2",
     "showTitle": false,
     "title": ""
    }
   },
   "outputs": [],
   "source": [
    "# Save the cleaned review data to s3\n",
    "df_review.write.mode(\"overwrite\").parquet(\"dbfs:/mnt/s3dataread/raw/review.parquet\")"
   ]
  },
  {
   "cell_type": "code",
   "execution_count": 0,
   "metadata": {
    "application/vnd.databricks.v1+cell": {
     "cellMetadata": {
      "byteLimit": 2048000,
      "rowLimit": 10000
     },
     "inputWidgets": {},
     "nuid": "8b4bedf0-3e6f-408f-8e55-e1140c631e6d",
     "showTitle": false,
     "title": ""
    }
   },
   "outputs": [
    {
     "output_type": "stream",
     "name": "stdout",
     "output_type": "stream",
     "text": [
      "+--------------------+--------------------+--------------------+--------------------+-------------+--------------------+-------+----------+------------+--------------------+-----------+------------+-----+-----+\n|             address|          attributes|         business_id|          categories|         city|               hours|is_open|  latitude|   longitude|                name|postal_code|review_count|stars|state|\n+--------------------+--------------------+--------------------+--------------------+-------------+--------------------+-------+----------+------------+--------------------+-----------+------------+-----+-----+\n|1616 Chapala St, ...|{null, null, null...|Pns2l4eNsfO8kk83d...|Doctors, Traditio...|Santa Barbara|                null|      0|34.4266787|-119.7111968|Abby Rappoport, L...|      93101|           7|  5.0|   CA|\n|87 Grasso Plaza S...|{null, null, null...|mpf3x-BjTdTEA3yCZ...|Shipping Centers,...|       Affton|{8:0-18:30, 0:0-0...|      1| 38.551126|  -90.335695|       The UPS Store|      63123|          15|  3.0|   MO|\n|5255 E Broadway Blvd|{null, null, null...|tUFrWirKiKi_TAnsV...|Department Stores...|       Tucson|{8:0-23:0, 8:0-22...|      0| 32.223236| -110.880452|              Target|      85711|          22|  3.5|   AZ|\n|         935 Race St|{null, null, u'no...|MTSW4McQd7CbVtyjq...|Restaurants, Food...| Philadelphia|{7:0-21:0, 7:0-20...|      1|39.9555052| -75.1555641|  St Honore Pastries|      19107|          80|  4.0|   PA|\n|       101 Walnut St|{null, null, null...|mWMc6_wTdE0EUBKIG...|Brewpubs, Breweri...|   Green Lane|{12:0-22:0, null,...|      1|40.3381827| -75.4716585|Perkiomen Valley ...|      18054|          13|  4.5|   PA|\n+--------------------+--------------------+--------------------+--------------------+-------------+--------------------+-------+----------+------------+--------------------+-----------+------------+-----+-----+\nonly showing top 5 rows\n\n"
     ]
    }
   ],
   "source": [
    "# Read the business data from s3\n",
    "file_location_business = \"dbfs:/mnt/s3dataread/landing/yelp_academic_dataset_business.json\"\n",
    "df_business = spark.read.json(file_location_business)\n",
    "df_business.show(5)"
   ]
  },
  {
   "cell_type": "code",
   "execution_count": 0,
   "metadata": {
    "application/vnd.databricks.v1+cell": {
     "cellMetadata": {
      "byteLimit": 2048000,
      "rowLimit": 10000
     },
     "inputWidgets": {},
     "nuid": "3d6b2c44-397a-4dc0-a227-f633515683c8",
     "showTitle": false,
     "title": ""
    }
   },
   "outputs": [
    {
     "output_type": "stream",
     "name": "stdout",
     "output_type": "stream",
     "text": [
      "root\n |-- address: string (nullable = true)\n |-- attributes: struct (nullable = true)\n |    |-- AcceptsInsurance: string (nullable = true)\n |    |-- AgesAllowed: string (nullable = true)\n |    |-- Alcohol: string (nullable = true)\n |    |-- Ambience: string (nullable = true)\n |    |-- BYOB: string (nullable = true)\n |    |-- BYOBCorkage: string (nullable = true)\n |    |-- BestNights: string (nullable = true)\n |    |-- BikeParking: string (nullable = true)\n |    |-- BusinessAcceptsBitcoin: string (nullable = true)\n |    |-- BusinessAcceptsCreditCards: string (nullable = true)\n |    |-- BusinessParking: string (nullable = true)\n |    |-- ByAppointmentOnly: string (nullable = true)\n |    |-- Caters: string (nullable = true)\n |    |-- CoatCheck: string (nullable = true)\n |    |-- Corkage: string (nullable = true)\n |    |-- DietaryRestrictions: string (nullable = true)\n |    |-- DogsAllowed: string (nullable = true)\n |    |-- DriveThru: string (nullable = true)\n |    |-- GoodForDancing: string (nullable = true)\n |    |-- GoodForKids: string (nullable = true)\n |    |-- GoodForMeal: string (nullable = true)\n |    |-- HairSpecializesIn: string (nullable = true)\n |    |-- HappyHour: string (nullable = true)\n |    |-- HasTV: string (nullable = true)\n |    |-- Music: string (nullable = true)\n |    |-- NoiseLevel: string (nullable = true)\n |    |-- Open24Hours: string (nullable = true)\n |    |-- OutdoorSeating: string (nullable = true)\n |    |-- RestaurantsAttire: string (nullable = true)\n |    |-- RestaurantsCounterService: string (nullable = true)\n |    |-- RestaurantsDelivery: string (nullable = true)\n |    |-- RestaurantsGoodForGroups: string (nullable = true)\n |    |-- RestaurantsPriceRange2: string (nullable = true)\n |    |-- RestaurantsReservations: string (nullable = true)\n |    |-- RestaurantsTableService: string (nullable = true)\n |    |-- RestaurantsTakeOut: string (nullable = true)\n |    |-- Smoking: string (nullable = true)\n |    |-- WheelchairAccessible: string (nullable = true)\n |    |-- WiFi: string (nullable = true)\n |-- business_id: string (nullable = true)\n |-- categories: string (nullable = true)\n |-- city: string (nullable = true)\n |-- hours: struct (nullable = true)\n |    |-- Friday: string (nullable = true)\n |    |-- Monday: string (nullable = true)\n |    |-- Saturday: string (nullable = true)\n |    |-- Sunday: string (nullable = true)\n |    |-- Thursday: string (nullable = true)\n |    |-- Tuesday: string (nullable = true)\n |    |-- Wednesday: string (nullable = true)\n |-- is_open: long (nullable = true)\n |-- latitude: double (nullable = true)\n |-- longitude: double (nullable = true)\n |-- name: string (nullable = true)\n |-- postal_code: string (nullable = true)\n |-- review_count: long (nullable = true)\n |-- stars: double (nullable = true)\n |-- state: string (nullable = true)\n\n"
     ]
    }
   ],
   "source": [
    "# Apply schema to the data\n",
    "df_business.printSchema()"
   ]
  },
  {
   "cell_type": "code",
   "execution_count": 0,
   "metadata": {
    "application/vnd.databricks.v1+cell": {
     "cellMetadata": {
      "byteLimit": 2048000,
      "rowLimit": 10000
     },
     "inputWidgets": {},
     "nuid": "a18c4f37-a1d4-4d56-bcae-60bb0dd7ba59",
     "showTitle": false,
     "title": ""
    }
   },
   "outputs": [
    {
     "output_type": "stream",
     "name": "stdout",
     "output_type": "stream",
     "text": [
      "Out[82]: 150346"
     ]
    }
   ],
   "source": [
    "# Count number of rows\n",
    "df_business.count()"
   ]
  },
  {
   "cell_type": "code",
   "execution_count": 0,
   "metadata": {
    "application/vnd.databricks.v1+cell": {
     "cellMetadata": {
      "byteLimit": 2048000,
      "rowLimit": 10000
     },
     "inputWidgets": {},
     "nuid": "21cf6364-699b-48b2-b5be-79cecff62e70",
     "showTitle": false,
     "title": ""
    }
   },
   "outputs": [
    {
     "output_type": "stream",
     "name": "stdout",
     "output_type": "stream",
     "text": [
      "Out[83]: ['address',\n 'attributes',\n 'business_id',\n 'categories',\n 'city',\n 'hours',\n 'is_open',\n 'latitude',\n 'longitude',\n 'name',\n 'postal_code',\n 'review_count',\n 'stars',\n 'state']"
     ]
    }
   ],
   "source": [
    "# Get all columns names\n",
    "df_business.columns"
   ]
  },
  {
   "cell_type": "code",
   "execution_count": 0,
   "metadata": {
    "application/vnd.databricks.v1+cell": {
     "cellMetadata": {
      "byteLimit": 2048000,
      "rowLimit": 10000
     },
     "inputWidgets": {},
     "nuid": "03194523-d6dd-4ca6-8362-5f7633f62047",
     "showTitle": false,
     "title": ""
    }
   },
   "outputs": [
    {
     "output_type": "stream",
     "name": "stdout",
     "output_type": "stream",
     "text": [
      "+--------------------+-------+----------+------------+-------------+-----------+-----+------------+-----+--------------------+\n|         business_id|is_open|  latitude|   longitude|         city|postal_code|state|review_count|stars|            category|\n+--------------------+-------+----------+------------+-------------+-----------+-----+------------+-----+--------------------+\n|Pns2l4eNsfO8kk83d...|      0|34.4266787|-119.7111968|Santa Barbara|      93101|   CA|           7|  5.0|             Doctors|\n|Pns2l4eNsfO8kk83d...|      0|34.4266787|-119.7111968|Santa Barbara|      93101|   CA|           7|  5.0| Traditional Chin...|\n|Pns2l4eNsfO8kk83d...|      0|34.4266787|-119.7111968|Santa Barbara|      93101|   CA|           7|  5.0| Naturopathic/Hol...|\n|Pns2l4eNsfO8kk83d...|      0|34.4266787|-119.7111968|Santa Barbara|      93101|   CA|           7|  5.0|         Acupuncture|\n|Pns2l4eNsfO8kk83d...|      0|34.4266787|-119.7111968|Santa Barbara|      93101|   CA|           7|  5.0|    Health & Medical|\n|Pns2l4eNsfO8kk83d...|      0|34.4266787|-119.7111968|Santa Barbara|      93101|   CA|           7|  5.0|       Nutritionists|\n|mpf3x-BjTdTEA3yCZ...|      1| 38.551126|  -90.335695|       Affton|      63123|   MO|          15|  3.0|    Shipping Centers|\n|mpf3x-BjTdTEA3yCZ...|      1| 38.551126|  -90.335695|       Affton|      63123|   MO|          15|  3.0|      Local Services|\n|mpf3x-BjTdTEA3yCZ...|      1| 38.551126|  -90.335695|       Affton|      63123|   MO|          15|  3.0|            Notaries|\n|mpf3x-BjTdTEA3yCZ...|      1| 38.551126|  -90.335695|       Affton|      63123|   MO|          15|  3.0|     Mailbox Centers|\n|mpf3x-BjTdTEA3yCZ...|      1| 38.551126|  -90.335695|       Affton|      63123|   MO|          15|  3.0|   Printing Services|\n|tUFrWirKiKi_TAnsV...|      0| 32.223236| -110.880452|       Tucson|      85711|   AZ|          22|  3.5|   Department Stores|\n|tUFrWirKiKi_TAnsV...|      0| 32.223236| -110.880452|       Tucson|      85711|   AZ|          22|  3.5|            Shopping|\n|tUFrWirKiKi_TAnsV...|      0| 32.223236| -110.880452|       Tucson|      85711|   AZ|          22|  3.5|             Fashion|\n|tUFrWirKiKi_TAnsV...|      0| 32.223236| -110.880452|       Tucson|      85711|   AZ|          22|  3.5|       Home & Garden|\n|tUFrWirKiKi_TAnsV...|      0| 32.223236| -110.880452|       Tucson|      85711|   AZ|          22|  3.5|         Electronics|\n|tUFrWirKiKi_TAnsV...|      0| 32.223236| -110.880452|       Tucson|      85711|   AZ|          22|  3.5|    Furniture Stores|\n|MTSW4McQd7CbVtyjq...|      1|39.9555052| -75.1555641| Philadelphia|      19107|   PA|          80|  4.0|         Restaurants|\n|MTSW4McQd7CbVtyjq...|      1|39.9555052| -75.1555641| Philadelphia|      19107|   PA|          80|  4.0|                Food|\n|MTSW4McQd7CbVtyjq...|      1|39.9555052| -75.1555641| Philadelphia|      19107|   PA|          80|  4.0|          Bubble Tea|\n+--------------------+-------+----------+------------+-------------+-----------+-----+------------+-----+--------------------+\nonly showing top 20 rows\n\n"
     ]
    }
   ],
   "source": [
    "#Convert the string into an array\n",
    "df_business_array = df_business.withColumn(\"categories_splitted\", split(\"categories\", \",\"))\n",
    "\n",
    "#Split the categories column into rows\n",
    "df_business_splitted = df_business_array.select(\"business_id\",\"is_open\",\"latitude\",\"longitude\",\"city\",\"postal_code\",\"state\",\"review_count\",\"stars\", explode(\"categories_splitted\").alias(\"category\"))\n",
    "\n",
    "df_business_splitted.show()"
   ]
  },
  {
   "cell_type": "code",
   "execution_count": 0,
   "metadata": {
    "application/vnd.databricks.v1+cell": {
     "cellMetadata": {
      "byteLimit": 2048000,
      "rowLimit": 10000
     },
     "inputWidgets": {},
     "nuid": "c41564ea-ce6e-4307-9289-d6dd2e489bfa",
     "showTitle": false,
     "title": ""
    }
   },
   "outputs": [
    {
     "output_type": "stream",
     "name": "stdout",
     "output_type": "stream",
     "text": [
      "+-----------+-------+--------+---------+----+-----------+-----+------------+-----+--------+\n|business_id|is_open|latitude|longitude|city|postal_code|state|review_count|stars|category|\n+-----------+-------+--------+---------+----+-----------+-----+------------+-----+--------+\n|          0|      0|       0|        0|   0|          0|    0|           0|    0|       0|\n+-----------+-------+--------+---------+----+-----------+-----+------------+-----+--------+\n\n"
     ]
    }
   ],
   "source": [
    "# Find missing value\n",
    "from pyspark.sql.functions import isnan, when, count, col\n",
    "\n",
    "df_business_splitted.select([count(when(isnan(c) | col(c).isNull(), c)).alias(c) for c in df_business_splitted.columns]).show()"
   ]
  },
  {
   "cell_type": "code",
   "execution_count": 0,
   "metadata": {
    "application/vnd.databricks.v1+cell": {
     "cellMetadata": {
      "byteLimit": 2048000,
      "rowLimit": 10000
     },
     "inputWidgets": {},
     "nuid": "e4ba53af-adcd-4949-88cc-13d23cf1c604",
     "showTitle": false,
     "title": ""
    }
   },
   "outputs": [],
   "source": [
    "# Save the cleaned business data to s3\n",
    "df_business_splitted.write.mode(\"overwrite\").parquet(\"dbfs:/mnt/s3dataread/raw/business.parquet\")"
   ]
  }
 ],
 "metadata": {
  "application/vnd.databricks.v1+notebook": {
   "dashboards": [],
   "language": "python",
   "notebookMetadata": {
    "pythonIndentUnit": 4
   },
   "notebookName": "YelpReview_EDA",
   "widgets": {}
  }
 },
 "nbformat": 4,
 "nbformat_minor": 0
}
